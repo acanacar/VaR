{
 "cells": [
  {
   "cell_type": "markdown",
   "metadata": {},
   "source": [
    "# Python VaR jupyter notebook\n",
    "\n",
    "Allows calculation of **historical VaR** for a variable range of user defined US equities. The lookback period is manually user defined. "
   ]
  },
  {
   "cell_type": "code",
   "execution_count": 1,
   "metadata": {
    "collapsed": true
   },
   "outputs": [],
   "source": [
    "import pandas as pd\n",
    "import numpy as np\n",
    "import quandl\n",
    "import matplotlib.pyplot as plt\n",
    "from matplotlib import style"
   ]
  },
  {
   "cell_type": "markdown",
   "metadata": {},
   "source": [
    "## User defined inputs below\n",
    "**tickers** is a user defined list containing the ticker symbols to be downloaded\n",
    "**start_date** defines the beginning of the lookback period for the historical VaR calculation\n",
    "**var_level** defines the quantile. For example, a VaR95 would have a var_level of 5\n",
    "**auth_token** defines your quandl API key, this is necessary for downloading the relevant stock data from quandl"
   ]
  },
  {
   "cell_type": "code",
   "execution_count": 11,
   "metadata": {
    "collapsed": true
   },
   "outputs": [],
   "source": [
    "tickers = [\"aapl\", \"tsla\", \"goog\", \"amzn\", \"fb\"]\n",
    "start_date = \"2017-01-01\"\n",
    "var_level = 5\n",
    "auth_token = \"your quandl API key here\""
   ]
  },
  {
   "cell_type": "code",
   "execution_count": 12,
   "metadata": {
    "collapsed": true
   },
   "outputs": [],
   "source": [
    "#Importing data and correctly formatting the dataframe\n",
    "######################################################\n",
    "def get_data(tickers,start_date):\n",
    "    \n",
    "    #Importing data from quandl\n",
    "    quandl.ApiConfig.api_key = auth_token\n",
    "    df = quandl.get_table('WIKI/PRICES', \n",
    "                          ticker=tickers,\n",
    "                          qopts = { 'columns': ['ticker', 'date', 'adj_close'] },\n",
    "                          date = { 'gte': start_date}, \n",
    "                          paginate = True)\n",
    "\n",
    "    #Reformatting the dataframe and calculating returns\n",
    "    df = df.pivot_table(index='date', columns='ticker', values='adj_close', aggfunc='sum')\n",
    "    for column in df:\n",
    "        df[column] = df[column].pct_change()\n",
    "    df.dropna(axis=0, how='any', thresh=None, subset=None, inplace=True)\n",
    "\n",
    "    return df"
   ]
  },
  {
   "cell_type": "code",
   "execution_count": 13,
   "metadata": {
    "collapsed": true
   },
   "outputs": [],
   "source": [
    "#Function for computing single asset historical VaR for each asset present in a dataframe\n",
    "def get_single_asset_var(df,var_level):\n",
    "    for column in df:\n",
    "        sorted_returns = sorted(df[column])\n",
    "   \n",
    "        var_result = np.percentile(sorted_returns, var_level)\n",
    "    \n",
    "        #Output histogram\n",
    "        plt.hist(sorted_returns,normed=True)\n",
    "        plt.xlabel('Returns')\n",
    "        plt.ylabel('Frequency')\n",
    "        plt.title(r'Histogram of Asset Returns', fontsize=18, fontweight='bold')\n",
    "        plt.axvline(x=var_result, color='r', linestyle='--', label='95% Confidence VaR: ' + \"{0:.2f}%\".format(var_result * 100))\n",
    "        plt.legend(loc='upper right', fontsize = 'x-small')\n",
    "        plt.show()  \n",
    "        print(column)\n",
    "        print(var_result)\n",
    "    "
   ]
  },
  {
   "cell_type": "code",
   "execution_count": 14,
   "metadata": {
    "collapsed": true
   },
   "outputs": [],
   "source": [
    "#Function for generating a correlation matrix for several assets contained in a dataframe\n",
    "def get_correlation_matrix(df):\n",
    "    global portfolio_correlation_matrix\n",
    "    portfolio_correlation_matrix = df.corr()\n",
    "    \n",
    "    plt.matshow(df.corr())\n",
    "    plt.show()\n",
    "    return portfolio_correlation_matrix"
   ]
  },
  {
   "cell_type": "code",
   "execution_count": 15,
   "metadata": {
    "scrolled": true
   },
   "outputs": [
    {
     "data": {
      "text/html": [
       "<div>\n",
       "<table border=\"1\" class=\"dataframe\">\n",
       "  <thead>\n",
       "    <tr style=\"text-align: right;\">\n",
       "      <th>ticker</th>\n",
       "      <th>AAPL</th>\n",
       "      <th>AMZN</th>\n",
       "      <th>FB</th>\n",
       "      <th>GOOG</th>\n",
       "      <th>TSLA</th>\n",
       "    </tr>\n",
       "    <tr>\n",
       "      <th>date</th>\n",
       "      <th></th>\n",
       "      <th></th>\n",
       "      <th></th>\n",
       "      <th></th>\n",
       "      <th></th>\n",
       "    </tr>\n",
       "  </thead>\n",
       "  <tbody>\n",
       "    <tr>\n",
       "      <th>2017-01-04</th>\n",
       "      <td>-0.001119</td>\n",
       "      <td>0.004657</td>\n",
       "      <td>0.015660</td>\n",
       "      <td>0.000967</td>\n",
       "      <td>0.046085</td>\n",
       "    </tr>\n",
       "    <tr>\n",
       "      <th>2017-01-05</th>\n",
       "      <td>0.005085</td>\n",
       "      <td>0.030732</td>\n",
       "      <td>0.016682</td>\n",
       "      <td>0.009048</td>\n",
       "      <td>-0.001057</td>\n",
       "    </tr>\n",
       "    <tr>\n",
       "      <th>2017-01-06</th>\n",
       "      <td>0.011148</td>\n",
       "      <td>0.019912</td>\n",
       "      <td>0.022707</td>\n",
       "      <td>0.015277</td>\n",
       "      <td>0.009967</td>\n",
       "    </tr>\n",
       "    <tr>\n",
       "      <th>2017-01-09</th>\n",
       "      <td>0.009160</td>\n",
       "      <td>0.001168</td>\n",
       "      <td>0.012074</td>\n",
       "      <td>0.000620</td>\n",
       "      <td>0.009912</td>\n",
       "    </tr>\n",
       "    <tr>\n",
       "      <th>2017-01-10</th>\n",
       "      <td>0.001008</td>\n",
       "      <td>-0.001280</td>\n",
       "      <td>-0.004404</td>\n",
       "      <td>-0.002306</td>\n",
       "      <td>-0.006097</td>\n",
       "    </tr>\n",
       "  </tbody>\n",
       "</table>\n",
       "</div>"
      ],
      "text/plain": [
       "ticker          AAPL      AMZN        FB      GOOG      TSLA\n",
       "date                                                        \n",
       "2017-01-04 -0.001119  0.004657  0.015660  0.000967  0.046085\n",
       "2017-01-05  0.005085  0.030732  0.016682  0.009048 -0.001057\n",
       "2017-01-06  0.011148  0.019912  0.022707  0.015277  0.009967\n",
       "2017-01-09  0.009160  0.001168  0.012074  0.000620  0.009912\n",
       "2017-01-10  0.001008 -0.001280 -0.004404 -0.002306 -0.006097"
      ]
     },
     "execution_count": 15,
     "metadata": {},
     "output_type": "execute_result"
    }
   ],
   "source": [
    "df = get_data(tickers,start_date)\n",
    "df.head()"
   ]
  },
  {
   "cell_type": "code",
   "execution_count": 16,
   "metadata": {},
   "outputs": [
    {
     "data": {
      "image/png": "[encoded data removed]",
      "text/plain": [
       "<matplotlib.figure.Figure at 0x2ca39d608d0>"
      ]
     },
     "metadata": {},
     "output_type": "display_data"
    },
    {
     "name": "stdout",
     "output_type": "stream",
     "text": [
      "AAPL\n",
      "-0.0175664879346\n"
     ]
    },
    {
     "data": {
      "image/png": "[encoded data removed]",
      "text/plain": [
       "<matplotlib.figure.Figure at 0x2ca39810828>"
      ]
     },
     "metadata": {},
     "output_type": "display_data"
    },
    {
     "name": "stdout",
     "output_type": "stream",
     "text": [
      "AMZN\n",
      "-0.0161928244393\n"
     ]
    },
    {
     "data": {
      "image/png": "[encoded data removed]",
      "text/plain": [
       "<matplotlib.figure.Figure at 0x2ca39cff2e8>"
      ]
     },
     "metadata": {},
     "output_type": "display_data"
    },
    {
     "name": "stdout",
     "output_type": "stream",
     "text": [
      "FB\n",
      "-0.0185872662247\n"
     ]
    },
    {
     "data": {
      "image/png": "[encoded data removed]",
      "text/plain": [
       "<matplotlib.figure.Figure at 0x2ca39db04e0>"
      ]
     },
     "metadata": {},
     "output_type": "display_data"
    },
    {
     "name": "stdout",
     "output_type": "stream",
     "text": [
      "GOOG\n",
      "-0.0201598108028\n"
     ]
    },
    {
     "data": {
      "image/png": "[encoded data removed]",
      "text/plain": [
       "<matplotlib.figure.Figure at 0x2ca39d855f8>"
      ]
     },
     "metadata": {},
     "output_type": "display_data"
    },
    {
     "name": "stdout",
     "output_type": "stream",
     "text": [
      "TSLA\n",
      "-0.0347304239166\n"
     ]
    }
   ],
   "source": [
    "get_single_asset_var(df,var_level)"
   ]
  },
  {
   "cell_type": "code",
   "execution_count": 17,
   "metadata": {},
   "outputs": [
    {
     "data": {
      "image/png": "[encoded data removed]",
      "text/plain": [
       "<matplotlib.figure.Figure at 0x2ca39d60b70>"
      ]
     },
     "metadata": {},
     "output_type": "display_data"
    },
    {
     "data": {
      "text/html": [
       "<div>\n",
       "<table border=\"1\" class=\"dataframe\">\n",
       "  <thead>\n",
       "    <tr style=\"text-align: right;\">\n",
       "      <th>ticker</th>\n",
       "      <th>AAPL</th>\n",
       "      <th>AMZN</th>\n",
       "      <th>FB</th>\n",
       "      <th>GOOG</th>\n",
       "      <th>TSLA</th>\n",
       "    </tr>\n",
       "    <tr>\n",
       "      <th>ticker</th>\n",
       "      <th></th>\n",
       "      <th></th>\n",
       "      <th></th>\n",
       "      <th></th>\n",
       "      <th></th>\n",
       "    </tr>\n",
       "  </thead>\n",
       "  <tbody>\n",
       "    <tr>\n",
       "      <th>AAPL</th>\n",
       "      <td>1.000000</td>\n",
       "      <td>0.473742</td>\n",
       "      <td>0.493233</td>\n",
       "      <td>0.551452</td>\n",
       "      <td>0.306193</td>\n",
       "    </tr>\n",
       "    <tr>\n",
       "      <th>AMZN</th>\n",
       "      <td>0.473742</td>\n",
       "      <td>1.000000</td>\n",
       "      <td>0.549617</td>\n",
       "      <td>0.604353</td>\n",
       "      <td>0.247711</td>\n",
       "    </tr>\n",
       "    <tr>\n",
       "      <th>FB</th>\n",
       "      <td>0.493233</td>\n",
       "      <td>0.549617</td>\n",
       "      <td>1.000000</td>\n",
       "      <td>0.691376</td>\n",
       "      <td>0.268537</td>\n",
       "    </tr>\n",
       "    <tr>\n",
       "      <th>GOOG</th>\n",
       "      <td>0.551452</td>\n",
       "      <td>0.604353</td>\n",
       "      <td>0.691376</td>\n",
       "      <td>1.000000</td>\n",
       "      <td>0.272385</td>\n",
       "    </tr>\n",
       "    <tr>\n",
       "      <th>TSLA</th>\n",
       "      <td>0.306193</td>\n",
       "      <td>0.247711</td>\n",
       "      <td>0.268537</td>\n",
       "      <td>0.272385</td>\n",
       "      <td>1.000000</td>\n",
       "    </tr>\n",
       "  </tbody>\n",
       "</table>\n",
       "</div>"
      ],
      "text/plain": [
       "ticker      AAPL      AMZN        FB      GOOG      TSLA\n",
       "ticker                                                  \n",
       "AAPL    1.000000  0.473742  0.493233  0.551452  0.306193\n",
       "AMZN    0.473742  1.000000  0.549617  0.604353  0.247711\n",
       "FB      0.493233  0.549617  1.000000  0.691376  0.268537\n",
       "GOOG    0.551452  0.604353  0.691376  1.000000  0.272385\n",
       "TSLA    0.306193  0.247711  0.268537  0.272385  1.000000"
      ]
     },
     "execution_count": 17,
     "metadata": {},
     "output_type": "execute_result"
    }
   ],
   "source": [
    "get_correlation_matrix(df)"
   ]
  }
 ],
 "metadata": {
  "kernelspec": {
   "display_name": "Python 3",
   "language": "python",
   "name": "python3"
  },
  "language_info": {
   "codemirror_mode": {
    "name": "ipython",
    "version": 3
   },
   "file_extension": ".py",
   "mimetype": "text/x-python",
   "name": "python",
   "nbconvert_exporter": "python",
   "pygments_lexer": "ipython3",
   "version": "3.5.4"
  }
 },
 "nbformat": 4,
 "nbformat_minor": 2
}
